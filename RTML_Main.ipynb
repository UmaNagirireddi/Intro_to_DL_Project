{
  "nbformat": 4,
  "nbformat_minor": 0,
  "metadata": {
    "colab": {
      "provenance": [],
      "machine_shape": "hm",
      "gpuType": "V100",
      "authorship_tag": "ABX9TyOcid5tSBLdUT6MTpZaP0pv",
      "include_colab_link": true
    },
    "kernelspec": {
      "name": "python3",
      "display_name": "Python 3"
    },
    "language_info": {
      "name": "python"
    },
    "accelerator": "GPU"
  },
  "cells": [
    {
      "cell_type": "markdown",
      "metadata": {
        "id": "view-in-github",
        "colab_type": "text"
      },
      "source": [
        "<a href=\"https://colab.research.google.com/github/indhu68/Intro_to_DL_Project/blob/main/RTML_Main.ipynb\" target=\"_parent\"><img src=\"https://colab.research.google.com/assets/colab-badge.svg\" alt=\"Open In Colab\"/></a>"
      ]
    },
    {
      "cell_type": "code",
      "source": [
        "import pandas as pd\n",
        "import numpy as np\n",
        "import torch\n",
        "from torch.utils.data import DataLoader, TensorDataset\n",
        "from sklearn.preprocessing import MinMaxScaler\n",
        "from sklearn.model_selection import train_test_split\n",
        "import torch.nn as nn\n",
        "import matplotlib.pyplot as plt\n"
      ],
      "metadata": {
        "id": "bPdW9nGmwbbE"
      },
      "execution_count": 1,
      "outputs": []
    },
    {
      "cell_type": "code",
      "source": [
        "# Load data\n",
        "\n",
        "data = pd.read_csv('https://raw.githubusercontent.com/indhu68/Intro_to_DL_Project/main/Kasungu_Telemetry_Pts_Oct23.csv', parse_dates=['Time.Stamp'])\n",
        "data = data[[\"Index\",\"Tag\", \"Latitude\", \"Longitude\", \"Time.Stamp\"]]\n",
        "data['Time.Stamp'] = pd.to_datetime(data['Time.Stamp'])\n",
        "data.sort_values(by=['Tag', 'Time.Stamp'], inplace=True)"
      ],
      "metadata": {
        "id": "9VBlY-9Mz1pV"
      },
      "execution_count": 2,
      "outputs": []
    },
    {
      "cell_type": "code",
      "source": [
        "# Calculate speed and distances\n",
        "epsilon = 1e-5  # Small constant to avoid division by zero\n",
        "data['Time_diff'] = data.groupby('Tag')['Time.Stamp'].diff().dt.total_seconds().fillna(0)\n",
        "data['Lat_diff'] = data.groupby('Tag')['Latitude'].diff().fillna(0)\n",
        "data['Lon_diff'] = data.groupby('Tag')['Longitude'].diff().fillna(0)\n",
        "data['Speed'] = np.sqrt(data['Lat_diff']**2 + data['Lon_diff']**2) / (data['Time_diff'] + epsilon)"
      ],
      "metadata": {
        "id": "Vxl-b3vaz5Y-"
      },
      "execution_count": 3,
      "outputs": []
    },
    {
      "cell_type": "code",
      "source": [
        "# Handle potential infinite or NaN values\n",
        "data.replace([np.inf, -np.inf], np.nan, inplace=True)\n",
        "data.fillna(data.mean(), inplace=True)  # Fill NaNs with the mean of the column\n"
      ],
      "metadata": {
        "id": "sOwEha8dz7o5"
      },
      "execution_count": 4,
      "outputs": []
    },
    {
      "cell_type": "code",
      "source": [
        "# Normalize features\n",
        "scaler = MinMaxScaler()\n",
        "data[['Latitude', 'Longitude', 'Lat_diff', 'Lon_diff', 'Speed']] = scaler.fit_transform(\n",
        "    data[['Latitude', 'Longitude', 'Lat_diff', 'Lon_diff', 'Speed']]\n",
        ")"
      ],
      "metadata": {
        "id": "G_ny0QUDz9N8"
      },
      "execution_count": 5,
      "outputs": []
    },
    {
      "cell_type": "code",
      "source": [
        "def create_sequences(data, n_steps):\n",
        "    X, y = [], []\n",
        "    for i in range(len(data)):\n",
        "        end_ix = i + n_steps + 1\n",
        "        if end_ix > len(data):\n",
        "            break\n",
        "        seq_x = data.iloc[i:end_ix-1].to_numpy()\n",
        "        seq_y = data.iloc[end_ix-1][['Latitude', 'Longitude']].to_numpy()\n",
        "        X.append(seq_x)\n",
        "        y.append(seq_y)\n",
        "    return np.array(X), np.array(y)\n",
        "\n",
        "# Prepare sequences\n",
        "grouped = data.groupby('Tag')\n",
        "X, y = [], []\n",
        "for _, group in grouped:\n",
        "    sequences = create_sequences(group[['Latitude', 'Longitude', 'Lat_diff', 'Lon_diff', 'Speed']], n_steps=5)\n",
        "    X.append(sequences[0])\n",
        "    y.append(sequences[1])\n",
        "\n",
        "X = np.concatenate(X)\n",
        "y = np.concatenate(y)\n"
      ],
      "metadata": {
        "id": "u_tA8BeAz-vo"
      },
      "execution_count": 6,
      "outputs": []
    },
    {
      "cell_type": "code",
      "source": [
        "# Train/test split\n",
        "X_train, X_test, y_train, y_test = train_test_split(X, y, test_size=0.2, random_state=42)"
      ],
      "metadata": {
        "id": "3ejoYiwA0FsY"
      },
      "execution_count": 7,
      "outputs": []
    },
    {
      "cell_type": "code",
      "source": [
        "# Convert to PyTorch tensors\n",
        "X_train_tensor = torch.tensor(X_train, dtype=torch.float32)\n",
        "y_train_tensor = torch.tensor(y_train, dtype=torch.float32)\n",
        "X_test_tensor = torch.tensor(X_test, dtype=torch.float32)\n",
        "y_test_tensor = torch.tensor(y_test, dtype=torch.float32)"
      ],
      "metadata": {
        "id": "8KjHkgkp0Hp_"
      },
      "execution_count": 8,
      "outputs": []
    },
    {
      "cell_type": "code",
      "source": [
        "# Define LSTM model\n",
        "class LSTMModel(nn.Module):\n",
        "    def __init__(self):\n",
        "        super().__init__()\n",
        "        self.fc1 = nn.Linear(5,32)\n",
        "        self.lstm = nn.LSTM(input_size=32, hidden_size=128, num_layers=3, batch_first=True)\n",
        "        self.fc = nn.Linear(128, 2)\n",
        "\n",
        "    def forward(self, x):\n",
        "        x = self.fc1(x)\n",
        "        out, _ = self.lstm(x)\n",
        "        return self.fc(out[:, -1, :])\n",
        "\n",
        "model = LSTMModel().to('cuda')\n",
        "criterion = nn.MSELoss()\n",
        "optimizer = torch.optim.Adam(model.parameters(), lr=0.001)"
      ],
      "metadata": {
        "id": "sR5qKiMu0J6x"
      },
      "execution_count": 9,
      "outputs": []
    },
    {
      "cell_type": "code",
      "source": [
        "# Prepare data loaders\n",
        "from torch.utils.data import DataLoader, TensorDataset\n",
        "train_loader = DataLoader(TensorDataset(X_train_tensor, y_train_tensor), batch_size=64, shuffle=True)\n",
        "test_loader = DataLoader(TensorDataset(X_test_tensor, y_test_tensor), batch_size=64, shuffle=True)"
      ],
      "metadata": {
        "id": "1GXjA47tg9hq"
      },
      "execution_count": 10,
      "outputs": []
    },
    {
      "cell_type": "code",
      "source": [
        "\n",
        "def train(model, dataloader, criterion, optimizer, num_epochs=10):\n",
        "    model.train()\n",
        "    for epoch in range(num_epochs):\n",
        "        total_loss = 0\n",
        "        for X_batch, y_batch in dataloader:\n",
        "            X_batch = X_batch.to('cuda')\n",
        "            y_batch = y_batch.to('cuda')\n",
        "            optimizer.zero_grad()\n",
        "            predictions = model(X_batch)\n",
        "            loss = criterion(predictions, y_batch)\n",
        "            loss.backward()\n",
        "            optimizer.step()\n",
        "            total_loss += loss.item()\n",
        "        print(f'Epoch {epoch+1}, Loss: {total_loss / len(dataloader)}')\n",
        "\n",
        "# Prepare data loaders\n",
        "train_loader = DataLoader(TensorDataset(X_train_tensor, y_train_tensor), batch_size=64, shuffle=True)\n",
        "test_loader = DataLoader(TensorDataset(X_test_tensor, y_test_tensor), batch_size=64, shuffle=True)\n",
        "\n",
        "# Train the model\n",
        "train(model, train_loader, criterion, optimizer)\n"
      ],
      "metadata": {
        "colab": {
          "base_uri": "https://localhost:8080/"
        },
        "id": "AXgrrBPk0LjT",
        "outputId": "0cd497f7-4515-4369-df62-d6c087864d02"
      },
      "execution_count": 11,
      "outputs": [
        {
          "output_type": "stream",
          "name": "stdout",
          "text": [
            "Epoch 1, Loss: 0.0007912141111794672\n",
            "Epoch 2, Loss: 2.5395743895865778e-05\n",
            "Epoch 3, Loss: 1.9803334269354418e-05\n",
            "Epoch 4, Loss: 1.7360332705081658e-05\n",
            "Epoch 5, Loss: 1.5375103593761198e-05\n",
            "Epoch 6, Loss: 1.4579710808357847e-05\n",
            "Epoch 7, Loss: 1.3541012193516084e-05\n",
            "Epoch 8, Loss: 1.3177556323283208e-05\n",
            "Epoch 9, Loss: 1.2885541764452591e-05\n",
            "Epoch 10, Loss: 1.2439723759068484e-05\n"
          ]
        }
      ]
    },
    {
      "cell_type": "code",
      "source": [
        "import torch\n",
        "\n",
        "def evaluate(model, dataloader, criterion, scaler):\n",
        "    model.eval()\n",
        "    total_loss = 0\n",
        "    sample_count = 0\n",
        "\n",
        "    min_lat_lon = scaler.data_min_[:2]  # Assuming these are lat and lon\n",
        "    range_lat_lon = scaler.data_range_[:2]  # Assuming these are lat and lon ranges\n",
        "\n",
        "    with torch.no_grad():\n",
        "        for X_batch, y_batch in dataloader:\n",
        "            X_batch = X_batch.to('cuda')\n",
        "            y_batch = y_batch.to('cuda')\n",
        "            predictions = model(X_batch)\n",
        "            loss = criterion(predictions, y_batch)\n",
        "            total_loss += loss.item()\n",
        "\n",
        "            if sample_count < 10:\n",
        "                actuals = y_batch.cpu().numpy()\n",
        "                predicteds = predictions.cpu().numpy()\n",
        "\n",
        "                # Apply inverse scaling to latitude and longitude\n",
        "                actuals[:, 0:2] = actuals[:, 0:2] * range_lat_lon + min_lat_lon\n",
        "                predicteds[:, 0:2] = predicteds[:, 0:2] * range_lat_lon + min_lat_lon\n",
        "\n",
        "                for actual, predicted in zip(actuals, predicteds):\n",
        "                    print(f'Actual: {actual[:2]}, Predicted: {predicted[:2]}')\n",
        "                    sample_count += 1\n",
        "                    if sample_count >= 10:\n",
        "                        break\n",
        "\n",
        "    print(f'\\nAverage Loss: {total_loss / len(dataloader)}')\n"
      ],
      "metadata": {
        "id": "k5FUnE3S64F3"
      },
      "execution_count": 12,
      "outputs": []
    },
    {
      "cell_type": "code",
      "source": [
        "evaluate(model, test_loader, criterion,scaler)"
      ],
      "metadata": {
        "colab": {
          "base_uri": "https://localhost:8080/"
        },
        "id": "kOlUMfJR7svb",
        "outputId": "5e01db56-7312-4f52-f5c4-443ae5a2ab30"
      },
      "execution_count": 13,
      "outputs": [
        {
          "output_type": "stream",
          "name": "stdout",
          "text": [
            "Actual: [-12.991917  33.272797], Predicted: [-12.988714  33.27226 ]\n",
            "Actual: [-12.911055  33.23379 ], Predicted: [-12.907994  33.229473]\n",
            "Actual: [-12.900917  33.197685], Predicted: [-12.900828  33.198223]\n",
            "Actual: [-13.126538  33.124836], Predicted: [-13.125088  33.12282 ]\n",
            "Actual: [-13.078202  33.061714], Predicted: [-13.078074  33.060375]\n",
            "Actual: [-12.857592  33.105824], Predicted: [-12.860061  33.10612 ]\n",
            "Actual: [-12.912452  33.309772], Predicted: [-12.907939  33.31548 ]\n",
            "Actual: [-12.849057  33.20437 ], Predicted: [-12.849726  33.204796]\n",
            "Actual: [-12.687453  33.128994], Predicted: [-12.683083  33.130253]\n",
            "Actual: [-13.26807  33.11822], Predicted: [-13.273646  33.12118 ]\n",
            "\n",
            "Average Loss: 9.571963517916166e-06\n"
          ]
        }
      ]
    },
    {
      "cell_type": "code",
      "source": [
        "import torch\n",
        "import torch.nn as nn\n",
        "\n",
        "class RNNModel(nn.Module):\n",
        "    def __init__(self):\n",
        "        super().__init__()\n",
        "        self.fc1 = nn.Linear(5, 32)\n",
        "        self.rnn = nn.RNN(input_size=32, hidden_size=128, num_layers=3, batch_first=True)\n",
        "        self.fc = nn.Linear(128, 2)\n",
        "\n",
        "    def forward(self, x):\n",
        "        x = self.fc1(x)\n",
        "        out, _ = self.rnn(x)\n",
        "        return self.fc(out[:, -1, :])\n",
        "\n",
        "rnn_model = RNNModel().to('cuda')\n",
        "criterion_rnn = nn.MSELoss()\n",
        "optimizer_rnn = torch.optim.Adam(rnn_model.parameters(), lr=0.001)\n"
      ],
      "metadata": {
        "id": "jnCXNqXLNfpo"
      },
      "execution_count": 14,
      "outputs": []
    },
    {
      "cell_type": "code",
      "source": [
        "\n",
        "def train(model, dataloader, criterion, optimizer, num_epochs=10):\n",
        "    model.train()\n",
        "    for epoch in range(num_epochs):\n",
        "        total_loss = 0\n",
        "        for X_batch, y_batch in dataloader:\n",
        "            X_batch = X_batch.to('cuda')\n",
        "            y_batch = y_batch.to('cuda')\n",
        "            optimizer.zero_grad()\n",
        "            predictions = model(X_batch)\n",
        "            loss = criterion(predictions, y_batch)\n",
        "            loss.backward()\n",
        "            optimizer.step()\n",
        "            total_loss += loss.item()\n",
        "        print(f'Epoch {epoch+1}, Loss: {total_loss / len(dataloader)}')\n",
        "\n",
        "# Prepare data loaders\n",
        "train_loader = DataLoader(TensorDataset(X_train_tensor, y_train_tensor), batch_size=64, shuffle=True)\n",
        "test_loader = DataLoader(TensorDataset(X_test_tensor, y_test_tensor), batch_size=64, shuffle=True)\n",
        "\n",
        "# Train the model\n",
        "train(model, train_loader, criterion, optimizer)\n",
        "\n",
        "\n"
      ],
      "metadata": {
        "colab": {
          "base_uri": "https://localhost:8080/"
        },
        "id": "xIn-XAepNk54",
        "outputId": "f63e8139-38c0-47ce-d753-f90abfd424b6"
      },
      "execution_count": 16,
      "outputs": [
        {
          "output_type": "stream",
          "name": "stdout",
          "text": [
            "Epoch 1, Loss: 1.0397343869313592e-05\n",
            "Epoch 2, Loss: 1.0326715467344159e-05\n",
            "Epoch 3, Loss: 1.0313110918807723e-05\n",
            "Epoch 4, Loss: 1.0217532660889936e-05\n",
            "Epoch 5, Loss: 1.0113994587039063e-05\n",
            "Epoch 6, Loss: 1.0055014537845111e-05\n",
            "Epoch 7, Loss: 1.0025053697532125e-05\n",
            "Epoch 8, Loss: 1.0003591006619068e-05\n",
            "Epoch 9, Loss: 9.969816263541741e-06\n",
            "Epoch 10, Loss: 9.936153184118159e-06\n"
          ]
        }
      ]
    },
    {
      "cell_type": "code",
      "source": [
        "import torch\n",
        "\n",
        "def evaluate(model, dataloader, criterion, scaler):\n",
        "    model.eval()\n",
        "    total_loss = 0\n",
        "    sample_count = 0\n",
        "\n",
        "    min_lat_lon = scaler.data_min_[:2]  # Assuming these are lat and lon\n",
        "    range_lat_lon = scaler.data_range_[:2]  # Assuming these are lat and lon ranges\n",
        "\n",
        "    with torch.no_grad():\n",
        "        for X_batch, y_batch in dataloader:\n",
        "            X_batch = X_batch.to('cuda')\n",
        "            y_batch = y_batch.to('cuda')\n",
        "            predictions = model(X_batch)\n",
        "            loss = criterion(predictions, y_batch)\n",
        "            total_loss += loss.item()\n",
        "\n",
        "            if sample_count < 10:\n",
        "                actuals = y_batch.cpu().numpy()\n",
        "                predicteds = predictions.cpu().numpy()\n",
        "\n",
        "                # Apply inverse scaling to latitude and longitude\n",
        "                actuals[:, 0:2] = actuals[:, 0:2] * range_lat_lon + min_lat_lon\n",
        "                predicteds[:, 0:2] = predicteds[:, 0:2] * range_lat_lon + min_lat_lon\n",
        "\n",
        "                for actual, predicted in zip(actuals, predicteds):\n",
        "                    print(f'Actual: {actual[:2]}, Predicted: {predicted[:2]}')\n",
        "                    sample_count += 1\n",
        "                    if sample_count >= 10:\n",
        "                        break\n",
        "\n",
        "    print(f'\\nAverage Loss: {total_loss / len(dataloader)}')\n",
        "\n",
        "evaluate(model, test_loader, criterion,scaler)\n"
      ],
      "metadata": {
        "colab": {
          "base_uri": "https://localhost:8080/"
        },
        "id": "3-KKNkpeNqeq",
        "outputId": "7ce8f5f8-55af-4d6b-941f-2676794e2056"
      },
      "execution_count": 17,
      "outputs": [
        {
          "output_type": "stream",
          "name": "stdout",
          "text": [
            "Actual: [-12.850323  33.186596], Predicted: [-12.852572  33.185753]\n",
            "Actual: [-13.053623  33.13765 ], Predicted: [-13.051231  33.140804]\n",
            "Actual: [-12.695882  33.131416], Predicted: [-12.701886  33.13119 ]\n",
            "Actual: [-12.87794   33.249634], Predicted: [-12.874328  33.24885 ]\n",
            "Actual: [-13.178442  33.120758], Predicted: [-13.181641  33.12123 ]\n",
            "Actual: [-13.298882  33.02378 ], Predicted: [-13.290944  33.020878]\n",
            "Actual: [-12.251355  32.429443], Predicted: [-12.255322  32.428684]\n",
            "Actual: [-13.268332  33.11803 ], Predicted: [-13.267344  33.1196  ]\n",
            "Actual: [-13.082685  33.178646], Predicted: [-13.083469  33.177605]\n",
            "Actual: [-12.940212  33.310917], Predicted: [-12.9409485  33.314392 ]\n",
            "\n",
            "Average Loss: 8.898865550152265e-06\n"
          ]
        }
      ]
    },
    {
      "cell_type": "code",
      "source": [
        "class GRUModel(nn.Module):\n",
        "    def __init__(self):\n",
        "        super().__init__()\n",
        "        self.fc1 = nn.Linear(5, 32)\n",
        "        self.gru = nn.GRU(input_size=32, hidden_size=128, num_layers=3, batch_first=True)\n",
        "        self.fc = nn.Linear(128, 2)\n",
        "\n",
        "    def forward(self, x):\n",
        "        x = self.fc1(x)\n",
        "        out, _ = self.gru(x)\n",
        "        return self.fc(out[:, -1, :])\n",
        "\n",
        "gru_model = GRUModel().to('cuda')\n",
        "criterion_gru = nn.MSELoss()\n",
        "optimizer_gru = torch.optim.Adam(gru_model.parameters(), lr=0.001)\n"
      ],
      "metadata": {
        "id": "7GWdjsJuNzf9"
      },
      "execution_count": 18,
      "outputs": []
    },
    {
      "cell_type": "code",
      "source": [
        "\n",
        "def train(model, dataloader, criterion, optimizer, num_epochs=10):\n",
        "    model.train()\n",
        "    for epoch in range(num_epochs):\n",
        "        total_loss = 0\n",
        "        for X_batch, y_batch in dataloader:\n",
        "            X_batch = X_batch.to('cuda')\n",
        "            y_batch = y_batch.to('cuda')\n",
        "            optimizer.zero_grad()\n",
        "            predictions = model(X_batch)\n",
        "            loss = criterion(predictions, y_batch)\n",
        "            loss.backward()\n",
        "            optimizer.step()\n",
        "            total_loss += loss.item()\n",
        "        print(f'Epoch {epoch+1}, Loss: {total_loss / len(dataloader)}')\n",
        "\n",
        "# Prepare data loaders\n",
        "train_loader = DataLoader(TensorDataset(X_train_tensor, y_train_tensor), batch_size=64, shuffle=True)\n",
        "test_loader = DataLoader(TensorDataset(X_test_tensor, y_test_tensor), batch_size=64, shuffle=True)\n",
        "\n",
        "# Train the model\n",
        "train(model, train_loader, criterion, optimizer)\n",
        "\n"
      ],
      "metadata": {
        "colab": {
          "base_uri": "https://localhost:8080/"
        },
        "id": "yewRT4VqN14S",
        "outputId": "5ae236f7-e4cd-434e-f537-2b99f1ca1f9a"
      },
      "execution_count": 19,
      "outputs": [
        {
          "output_type": "stream",
          "name": "stdout",
          "text": [
            "Epoch 1, Loss: 9.885533056138883e-06\n",
            "Epoch 2, Loss: 9.987743456577838e-06\n",
            "Epoch 3, Loss: 9.830288158335676e-06\n",
            "Epoch 4, Loss: 9.915423344067564e-06\n",
            "Epoch 5, Loss: 9.827278457642101e-06\n",
            "Epoch 6, Loss: 9.7230846728799e-06\n",
            "Epoch 7, Loss: 9.818640588804798e-06\n",
            "Epoch 8, Loss: 9.723774378364372e-06\n",
            "Epoch 9, Loss: 9.659902048588797e-06\n",
            "Epoch 10, Loss: 9.678963574313023e-06\n"
          ]
        }
      ]
    },
    {
      "cell_type": "code",
      "source": [
        "import torch\n",
        "\n",
        "def evaluate(model, dataloader, criterion, scaler):\n",
        "    model.eval()\n",
        "    total_loss = 0\n",
        "    sample_count = 0\n",
        "\n",
        "    min_lat_lon = scaler.data_min_[:2]  # Assuming these are lat and lon\n",
        "    range_lat_lon = scaler.data_range_[:2]  # Assuming these are lat and lon ranges\n",
        "\n",
        "    with torch.no_grad():\n",
        "        for X_batch, y_batch in dataloader:\n",
        "            X_batch = X_batch.to('cuda')\n",
        "            y_batch = y_batch.to('cuda')\n",
        "            predictions = model(X_batch)\n",
        "            loss = criterion(predictions, y_batch)\n",
        "            total_loss += loss.item()\n",
        "\n",
        "            if sample_count < 10:\n",
        "                actuals = y_batch.cpu().numpy()\n",
        "                predicteds = predictions.cpu().numpy()\n",
        "\n",
        "                # Apply inverse scaling to latitude and longitude\n",
        "                actuals[:, 0:2] = actuals[:, 0:2] * range_lat_lon + min_lat_lon\n",
        "                predicteds[:, 0:2] = predicteds[:, 0:2] * range_lat_lon + min_lat_lon\n",
        "\n",
        "                for actual, predicted in zip(actuals, predicteds):\n",
        "                    print(f'Actual: {actual[:2]}, Predicted: {predicted[:2]}')\n",
        "                    sample_count += 1\n",
        "                    if sample_count >= 10:\n",
        "                        break\n",
        "\n",
        "    print(f'\\nAverage Loss: {total_loss / len(dataloader)}')\n",
        "\n",
        "evaluate(model, test_loader, criterion,scaler)\n"
      ],
      "metadata": {
        "colab": {
          "base_uri": "https://localhost:8080/"
        },
        "id": "VDOjx7pnN4WU",
        "outputId": "c26ce6bd-64be-4558-ffb9-698424941ecb"
      },
      "execution_count": 20,
      "outputs": [
        {
          "output_type": "stream",
          "name": "stdout",
          "text": [
            "Actual: [-13.088043  33.21084 ], Predicted: [-13.087469  33.21344 ]\n",
            "Actual: [-12.840453  33.193604], Predicted: [-12.840797  33.195   ]\n",
            "Actual: [-13.06406   33.181767], Predicted: [-13.066008  33.182106]\n",
            "Actual: [-12.774588  33.067142], Predicted: [-12.774734  33.068142]\n",
            "Actual: [-13.114002  33.024143], Predicted: [-13.113149  33.026085]\n",
            "Actual: [-12.902275  33.176537], Predicted: [-12.902032  33.17683 ]\n",
            "Actual: [-13.296782  33.033176], Predicted: [-13.29606  33.03174]\n",
            "Actual: [-13.118703  33.13329 ], Predicted: [-13.116373  33.134953]\n",
            "Actual: [-12.67906   33.207382], Predicted: [-12.682636  33.20732 ]\n",
            "Actual: [-12.969095  33.13352 ], Predicted: [-12.968284  33.135742]\n",
            "\n",
            "Average Loss: 8.751852609616865e-06\n"
          ]
        }
      ]
    },
    {
      "cell_type": "code",
      "source": [
        "import torch\n",
        "import torch.nn as nn\n",
        "\n",
        "class TransformerModel(nn.Module):\n",
        "    def __init__(self, input_dim, num_heads, num_layers, hidden_dim, output_dim):\n",
        "        super().__init__()\n",
        "        self.embedding = nn.Linear(input_dim, hidden_dim)\n",
        "        transformer_layer = nn.TransformerEncoderLayer(\n",
        "            d_model=hidden_dim, nhead=num_heads, dim_feedforward=hidden_dim * 4, batch_first=True\n",
        "        )\n",
        "        self.transformer = nn.TransformerEncoder(transformer_layer, num_layers=num_layers)\n",
        "        self.fc_out = nn.Linear(hidden_dim, output_dim)\n",
        "\n",
        "    def forward(self, x):\n",
        "        x = self.embedding(x)\n",
        "        x = self.transformer(x)\n",
        "        return self.fc_out(x[:, -1, :])\n",
        "\n",
        "# Example initialization and setting up optimizer and loss\n",
        "transformer_attention_model = TransformerModel(input_dim=5, num_heads=4, num_layers=3, hidden_dim=128, output_dim=2).to('cuda')\n",
        "criterion_transformer = nn.MSELoss()\n",
        "optimizer_transformer = torch.optim.Adam(transformer_attention_model.parameters(), lr=0.001)\n"
      ],
      "metadata": {
        "id": "dKsV1GycO4jO"
      },
      "execution_count": 21,
      "outputs": []
    },
    {
      "cell_type": "code",
      "source": [
        "\n",
        "def train(model, dataloader, criterion, optimizer, num_epochs=10):\n",
        "    model.train()\n",
        "    for epoch in range(num_epochs):\n",
        "        total_loss = 0\n",
        "        for X_batch, y_batch in dataloader:\n",
        "            X_batch = X_batch.to('cuda')\n",
        "            y_batch = y_batch.to('cuda')\n",
        "            optimizer.zero_grad()\n",
        "            predictions = model(X_batch)\n",
        "            loss = criterion(predictions, y_batch)\n",
        "            loss.backward()\n",
        "            optimizer.step()\n",
        "            total_loss += loss.item()\n",
        "        print(f'Epoch {epoch+1}, Loss: {total_loss / len(dataloader)}')\n",
        "\n",
        "# Prepare data loaders\n",
        "train_loader = DataLoader(TensorDataset(X_train_tensor, y_train_tensor), batch_size=64, shuffle=True)\n",
        "test_loader = DataLoader(TensorDataset(X_test_tensor, y_test_tensor), batch_size=64, shuffle=True)\n",
        "\n",
        "# Train the model\n",
        "train(model, train_loader, criterion, optimizer)\n",
        "\n"
      ],
      "metadata": {
        "colab": {
          "base_uri": "https://localhost:8080/"
        },
        "id": "mjF6YZE1O_00",
        "outputId": "ebf48886-0abb-4a67-ee10-dfed745881e1"
      },
      "execution_count": 22,
      "outputs": [
        {
          "output_type": "stream",
          "name": "stdout",
          "text": [
            "Epoch 1, Loss: 9.620678285499857e-06\n",
            "Epoch 2, Loss: 9.559379725176703e-06\n",
            "Epoch 3, Loss: 9.544881166290032e-06\n",
            "Epoch 4, Loss: 9.59409381858708e-06\n",
            "Epoch 5, Loss: 9.55689977527057e-06\n",
            "Epoch 6, Loss: 9.540485501401853e-06\n",
            "Epoch 7, Loss: 9.584064781229655e-06\n",
            "Epoch 8, Loss: 9.584830845273088e-06\n",
            "Epoch 9, Loss: 9.456047791330367e-06\n",
            "Epoch 10, Loss: 9.44257934510419e-06\n"
          ]
        }
      ]
    },
    {
      "cell_type": "code",
      "source": [
        "import torch\n",
        "\n",
        "def evaluate(model, dataloader, criterion, scaler):\n",
        "    model.eval()\n",
        "    total_loss = 0\n",
        "    sample_count = 0\n",
        "\n",
        "    min_lat_lon = scaler.data_min_[:2]  # Assuming these are lat and lon\n",
        "    range_lat_lon = scaler.data_range_[:2]  # Assuming these are lat and lon ranges\n",
        "\n",
        "    with torch.no_grad():\n",
        "        for X_batch, y_batch in dataloader:\n",
        "            X_batch = X_batch.to('cuda')\n",
        "            y_batch = y_batch.to('cuda')\n",
        "            predictions = model(X_batch)\n",
        "            loss = criterion(predictions, y_batch)\n",
        "            total_loss += loss.item()\n",
        "\n",
        "            if sample_count < 10:\n",
        "                actuals = y_batch.cpu().numpy()\n",
        "                predicteds = predictions.cpu().numpy()\n",
        "\n",
        "                # Apply inverse scaling to latitude and longitude\n",
        "                actuals[:, 0:2] = actuals[:, 0:2] * range_lat_lon + min_lat_lon\n",
        "                predicteds[:, 0:2] = predicteds[:, 0:2] * range_lat_lon + min_lat_lon\n",
        "\n",
        "                for actual, predicted in zip(actuals, predicteds):\n",
        "                    print(f'Actual: {actual[:2]}, Predicted: {predicted[:2]}')\n",
        "                    sample_count += 1\n",
        "                    if sample_count >= 10:\n",
        "                        break\n",
        "\n",
        "    print(f'\\nAverage Loss: {total_loss / len(dataloader)}')\n",
        "\n",
        "evaluate(model, test_loader, criterion,scaler)\n"
      ],
      "metadata": {
        "colab": {
          "base_uri": "https://localhost:8080/"
        },
        "id": "L2J1XXrJPIz-",
        "outputId": "26421699-e405-4d16-9e8d-aa3c2b23b53e"
      },
      "execution_count": 23,
      "outputs": [
        {
          "output_type": "stream",
          "name": "stdout",
          "text": [
            "Actual: [-12.845487  33.308167], Predicted: [-12.841338  33.308952]\n",
            "Actual: [-12.946897  33.343624], Predicted: [-12.946567  33.34222 ]\n",
            "Actual: [-12.874117  33.247982], Predicted: [-12.872089  33.248318]\n",
            "Actual: [-12.805455  33.20787 ], Predicted: [-12.803793  33.21308 ]\n",
            "Actual: [-12.835657  33.13309 ], Predicted: [-12.836319  33.132877]\n",
            "Actual: [-12.932943  33.25104 ], Predicted: [-12.933314  33.25215 ]\n",
            "Actual: [-12.958168  33.223373], Predicted: [-12.969971  33.219498]\n",
            "Actual: [-12.828597  33.105366], Predicted: [-12.82993   33.106277]\n",
            "Actual: [-13.114282  33.12327 ], Predicted: [-13.119808  33.134727]\n",
            "Actual: [-13.241723  33.1287  ], Predicted: [-13.241946  33.130436]\n",
            "\n",
            "Average Loss: 8.57462619848259e-06\n"
          ]
        }
      ]
    }
  ]
}